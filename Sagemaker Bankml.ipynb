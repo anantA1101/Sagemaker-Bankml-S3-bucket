{
 "cells": [
  {
   "cell_type": "code",
   "execution_count": 65,
   "id": "5ab283b6",
   "metadata": {},
   "outputs": [],
   "source": [
    "import sagemaker\n",
    "import boto3"
   ]
  },
  {
   "cell_type": "code",
   "execution_count": 5,
   "id": "8d3d96b8",
   "metadata": {},
   "outputs": [],
   "source": [
    "from sagemaker.session import s3_input,Session"
   ]
  },
  {
   "cell_type": "code",
   "execution_count": 48,
   "id": "07a8feac",
   "metadata": {},
   "outputs": [],
   "source": [
    "from sagemaker.amazon.amazon_estimator import image_uris"
   ]
  },
  {
   "cell_type": "code",
   "execution_count": 21,
   "id": "0fe1d29b",
   "metadata": {},
   "outputs": [],
   "source": [
    "bucket_name= \"bankml\"\n",
    "region = boto3.session.Session().region_name"
   ]
  },
  {
   "cell_type": "code",
   "execution_count": 22,
   "id": "369ebb4e",
   "metadata": {},
   "outputs": [
    {
     "data": {
      "text/plain": [
       "'us-east-1'"
      ]
     },
     "execution_count": 22,
     "metadata": {},
     "output_type": "execute_result"
    }
   ],
   "source": [
    "region"
   ]
  },
  {
   "cell_type": "markdown",
   "id": "7d7a500a",
   "metadata": {},
   "source": [
    "#### Making a bucket "
   ]
  },
  {
   "cell_type": "code",
   "execution_count": 23,
   "id": "495684b9",
   "metadata": {},
   "outputs": [
    {
     "name": "stdout",
     "output_type": "stream",
     "text": [
      "Succesfullly bucket created \n"
     ]
    }
   ],
   "source": [
    "s3 = boto3.resource(\"s3\")\n",
    "try:\n",
    "    if region == 'us-east-1':\n",
    "        s3.create_bucket(Bucket = bucket_name )\n",
    "        print(\"Succesfullly bucket created \")\n",
    "        \n",
    "except Exception as e: \n",
    "    print(\"s3 error : \", e)"
   ]
  },
  {
   "cell_type": "markdown",
   "id": "a194f238",
   "metadata": {},
   "source": [
    "### Setting output path for the model "
   ]
  },
  {
   "cell_type": "code",
   "execution_count": 24,
   "id": "505bf1a8",
   "metadata": {},
   "outputs": [],
   "source": [
    "prefix= 'xg-boost-as-a-built-in-algo' "
   ]
  },
  {
   "cell_type": "code",
   "execution_count": 66,
   "id": "69479568",
   "metadata": {},
   "outputs": [
    {
     "name": "stdout",
     "output_type": "stream",
     "text": [
      "s3://bankml/xg-boost-as-a-built-in-algo/output\n"
     ]
    }
   ],
   "source": [
    "output_path = \"s3://{}/{}/output\".format(bucket_name, prefix)\n",
    "print(output_path)"
   ]
  },
  {
   "cell_type": "markdown",
   "id": "e8010cc2",
   "metadata": {},
   "source": [
    "### Downloading and storing data "
   ]
  },
  {
   "cell_type": "code",
   "execution_count": 26,
   "id": "4043ba1b",
   "metadata": {},
   "outputs": [],
   "source": [
    "import pandas as pd\n",
    "import urllib"
   ]
  },
  {
   "cell_type": "code",
   "execution_count": 28,
   "id": "6ae00842",
   "metadata": {},
   "outputs": [],
   "source": [
    "# Downloading from url\n",
    "try:\n",
    "    urllib.request.urlretrieve(\"https://d1.awsstatic.com/tmt/build-train-deploy-machine-learning-model-sagemaker/bank_clean.27f01fbbdf43271788427f3682996ae29ceca05d.csv\", \"bank_clean.csv\")\n",
    "    print(\"Downloaded Succesfully \")\n",
    "except Exception as e:\n",
    "    print(\" Error Occured : \", e)"
   ]
  },
  {
   "cell_type": "code",
   "execution_count": 29,
   "id": "19668118",
   "metadata": {},
   "outputs": [
    {
     "name": "stdout",
     "output_type": "stream",
     "text": [
      "Read succssfully\n"
     ]
    }
   ],
   "source": [
    "# storing data in pandas\n",
    "try:\n",
    "    model_data = pd.read_csv('./bank_clean.csv', index_col=0)\n",
    "    print(\"Read succssfully\")\n",
    "except Exception as e :\n",
    "    print(\"Error : \", e)"
   ]
  },
  {
   "cell_type": "markdown",
   "id": "0c3ce664",
   "metadata": {},
   "source": [
    "#### Split the data into train and test "
   ]
  },
  {
   "cell_type": "code",
   "execution_count": 30,
   "id": "2050d3c2",
   "metadata": {},
   "outputs": [],
   "source": [
    "import numpy as np  "
   ]
  },
  {
   "cell_type": "code",
   "execution_count": 31,
   "id": "4b2b39ca",
   "metadata": {},
   "outputs": [],
   "source": [
    "train_data , test_data = np.split(model_data.sample(frac= 1, random_state= 1729), [int(0.7* len(model_data))])"
   ]
  },
  {
   "cell_type": "markdown",
   "id": "a11db5db",
   "metadata": {},
   "source": [
    "####  Removing the yes and no outputs "
   ]
  },
  {
   "cell_type": "code",
   "execution_count": 36,
   "id": "02aa18a8",
   "metadata": {},
   "outputs": [],
   "source": [
    "pd.concat([train_data['y_yes'], train_data.drop(['y_yes', 'y_no'] , axis=1)], axis= 1 ).to_csv('train.csv', index = False , header = False)"
   ]
  },
  {
   "cell_type": "markdown",
   "id": "c62fd3ba",
   "metadata": {},
   "source": [
    "### uploading train.csv to bucket "
   ]
  },
  {
   "cell_type": "code",
   "execution_count": 39,
   "id": "dcc370f7",
   "metadata": {},
   "outputs": [],
   "source": [
    "import os\n",
    "boto3.Session().resource(\"s3\").Bucket(bucket_name).Object(os.path.join(prefix,'train/train.csv')).upload_file('train.csv')"
   ]
  },
  {
   "cell_type": "markdown",
   "id": "aa2ef5f0",
   "metadata": {},
   "source": [
    "### Create path to the file"
   ]
  },
  {
   "cell_type": "code",
   "execution_count": 55,
   "id": "fcf440a5",
   "metadata": {},
   "outputs": [],
   "source": [
    "s3_input_train= sagemaker.TrainingInput(s3_data ='s3://{}/{}/train'.format(bucket_name, prefix), content_type = 'csv')"
   ]
  },
  {
   "cell_type": "markdown",
   "id": "1c68ee7b",
   "metadata": {},
   "source": [
    "same for test"
   ]
  },
  {
   "cell_type": "code",
   "execution_count": 42,
   "id": "513ec983",
   "metadata": {},
   "outputs": [],
   "source": [
    "import os\n",
    "pd.concat([test_data['y_yes'], test_data.drop(['y_yes', 'y_no'] , axis=1)], axis= 1 ).to_csv('test.csv', index = False , header = False)\n",
    "boto3.Session().resource(\"s3\").Bucket(bucket_name).Object(os.path.join(prefix,'test/test.csv')).upload_file('test.csv')"
   ]
  },
  {
   "cell_type": "code",
   "execution_count": 56,
   "id": "5c294bc2",
   "metadata": {},
   "outputs": [],
   "source": [
    "s3_input_test= sagemaker.TrainingInput(s3_data ='s3://{}/{}/test'.format(bucket_name, prefix), content_type = 'csv')"
   ]
  },
  {
   "cell_type": "markdown",
   "id": "67ee043d",
   "metadata": {},
   "source": [
    "### Creating XG Boost , it is an inbuilt alg  "
   ]
  },
  {
   "cell_type": "markdown",
   "id": "ab6aba84",
   "metadata": {},
   "source": [
    "pulling the container"
   ]
  },
  {
   "cell_type": "code",
   "execution_count": 57,
   "id": "6212c1f1",
   "metadata": {},
   "outputs": [],
   "source": [
    "container = image_uris.retrieve(region=boto3.Session().region_name, framework='xgboost', version='1.0-1')"
   ]
  },
  {
   "cell_type": "markdown",
   "id": "95337827",
   "metadata": {},
   "source": [
    "### Hyper parameters"
   ]
  },
  {
   "cell_type": "code",
   "execution_count": 62,
   "id": "eefc9f88",
   "metadata": {},
   "outputs": [],
   "source": [
    "hyperparameters = {\n",
    "        \"max_depth\":\"5\",\n",
    "        \"eta\":\"0.2\",\n",
    "        \"gamma\":\"4\",\n",
    "        \"min_child_weight\":\"6\",\n",
    "        \"subsample\":\"0.7\",\n",
    "        \"objective\":\"binary:logistic\",\n",
    "        \"num_round\":50\n",
    "        }"
   ]
  },
  {
   "cell_type": "markdown",
   "id": "f2ce31b2",
   "metadata": {},
   "source": [
    "### Construuct the estimator"
   ]
  },
  {
   "cell_type": "code",
   "execution_count": 67,
   "id": "0a273e8a",
   "metadata": {},
   "outputs": [],
   "source": [
    "estimator = sagemaker.estimator.Estimator(image_uri= container,\n",
    "                                         hyperparameters= hyperparameters,\n",
    "                                         role = sagemaker.get_execution_role(),\n",
    "                                         instance_count= 1,\n",
    "                                         instance_type = 'ml.m5.2xlarge',\n",
    "                                         volume_size= 5,\n",
    "                                         output_path= output_path,\n",
    "                                         use_spot_instances= True,\n",
    "                                         max_run= 300,\n",
    "                                         max_wait= 600)"
   ]
  },
  {
   "cell_type": "code",
   "execution_count": 68,
   "id": "2d912be7",
   "metadata": {},
   "outputs": [
    {
     "name": "stdout",
     "output_type": "stream",
     "text": [
      "2022-04-29 20:29:58 Starting - Starting the training job...\n",
      "2022-04-29 20:30:10 Starting - Launching requested ML instancesProfilerReport-1651264198: InProgress\n",
      ".........\n",
      "2022-04-29 20:31:40 Starting - Preparing the instances for training......\n",
      "2022-04-29 20:32:58 Downloading - Downloading input data\n",
      "2022-04-29 20:32:58 Training - Downloading the training image......\n",
      "2022-04-29 20:33:56 Uploading - Uploading generated training model\n",
      "2022-04-29 20:33:56 Completed - Training job completed\n",
      "\u001b[34mINFO:sagemaker-containers:Imported framework sagemaker_xgboost_container.training\u001b[0m\n",
      "\u001b[34mINFO:sagemaker-containers:Failed to parse hyperparameter objective value binary:logistic to Json.\u001b[0m\n",
      "\u001b[34mReturning the value itself\u001b[0m\n",
      "\u001b[34mINFO:sagemaker-containers:No GPUs detected (normal if no gpus installed)\u001b[0m\n",
      "\u001b[34mINFO:sagemaker_xgboost_container.training:Running XGBoost Sagemaker in algorithm mode\u001b[0m\n",
      "\u001b[34mINFO:root:Determined delimiter of CSV input is ','\u001b[0m\n",
      "\u001b[34mINFO:root:Determined delimiter of CSV input is ','\u001b[0m\n",
      "\u001b[34mINFO:root:Determined delimiter of CSV input is ','\u001b[0m\n",
      "\u001b[34m[20:33:44] 28831x59 matrix with 1701029 entries loaded from /opt/ml/input/data/train?format=csv&label_column=0&delimiter=,\u001b[0m\n",
      "\u001b[34mINFO:root:Determined delimiter of CSV input is ','\u001b[0m\n",
      "\u001b[34m[20:33:44] 12357x59 matrix with 729063 entries loaded from /opt/ml/input/data/validation?format=csv&label_column=0&delimiter=,\u001b[0m\n",
      "\u001b[34mINFO:root:Single node training.\u001b[0m\n",
      "\u001b[34mINFO:root:Train matrix has 28831 rows\u001b[0m\n",
      "\u001b[34mINFO:root:Validation matrix has 12357 rows\u001b[0m\n",
      "\u001b[34m[20:33:44] WARNING: /workspace/src/learner.cc:328: \u001b[0m\n",
      "\u001b[34mParameters: { num_round } might not be used.\n",
      "  This may not be accurate due to some parameters are only used in language bindings but\n",
      "  passed down to XGBoost core.  Or some parameters are not used but slip through this\n",
      "  verification. Please open an issue if you find above cases.\u001b[0m\n",
      "\u001b[34m[0]#011train-error:0.10079#011validation-error:0.10528\u001b[0m\n",
      "\u001b[34m[1]#011train-error:0.09968#011validation-error:0.10456\u001b[0m\n",
      "\u001b[34m[2]#011train-error:0.10017#011validation-error:0.10375\u001b[0m\n",
      "\u001b[34m[3]#011train-error:0.09989#011validation-error:0.10310\u001b[0m\n",
      "\u001b[34m[4]#011train-error:0.09996#011validation-error:0.10286\u001b[0m\n",
      "\u001b[34m[5]#011train-error:0.09906#011validation-error:0.10261\u001b[0m\n",
      "\u001b[34m[6]#011train-error:0.09930#011validation-error:0.10286\u001b[0m\n",
      "\u001b[34m[7]#011train-error:0.09951#011validation-error:0.10261\u001b[0m\n",
      "\u001b[34m[8]#011train-error:0.09920#011validation-error:0.10286\u001b[0m\n",
      "\u001b[34m[9]#011train-error:0.09871#011validation-error:0.10294\u001b[0m\n",
      "\u001b[34m[10]#011train-error:0.09868#011validation-error:0.10294\u001b[0m\n",
      "\u001b[34m[11]#011train-error:0.09868#011validation-error:0.10326\u001b[0m\n",
      "\u001b[34m[12]#011train-error:0.09854#011validation-error:0.10358\u001b[0m\n",
      "\u001b[34m[13]#011train-error:0.09892#011validation-error:0.10342\u001b[0m\n",
      "\u001b[34m[14]#011train-error:0.09850#011validation-error:0.10342\u001b[0m\n",
      "\u001b[34m[15]#011train-error:0.09844#011validation-error:0.10326\u001b[0m\n",
      "\u001b[34m[16]#011train-error:0.09857#011validation-error:0.10318\u001b[0m\n",
      "\u001b[34m[17]#011train-error:0.09799#011validation-error:0.10318\u001b[0m\n",
      "\u001b[34m[18]#011train-error:0.09816#011validation-error:0.10383\u001b[0m\n",
      "\u001b[34m[19]#011train-error:0.09857#011validation-error:0.10383\u001b[0m\n",
      "\u001b[34m[20]#011train-error:0.09830#011validation-error:0.10350\u001b[0m\n",
      "\u001b[34m[21]#011train-error:0.09826#011validation-error:0.10318\u001b[0m\n",
      "\u001b[34m[22]#011train-error:0.09847#011validation-error:0.10399\u001b[0m\n",
      "\u001b[34m[23]#011train-error:0.09833#011validation-error:0.10407\u001b[0m\n",
      "\u001b[34m[24]#011train-error:0.09812#011validation-error:0.10415\u001b[0m\n",
      "\u001b[34m[25]#011train-error:0.09812#011validation-error:0.10399\u001b[0m\n",
      "\u001b[34m[26]#011train-error:0.09774#011validation-error:0.10375\u001b[0m\n",
      "\u001b[34m[27]#011train-error:0.09781#011validation-error:0.10375\u001b[0m\n",
      "\u001b[34m[28]#011train-error:0.09781#011validation-error:0.10391\u001b[0m\n",
      "\u001b[34m[29]#011train-error:0.09778#011validation-error:0.10367\u001b[0m\n",
      "\u001b[34m[30]#011train-error:0.09781#011validation-error:0.10383\u001b[0m\n",
      "\u001b[34m[31]#011train-error:0.09771#011validation-error:0.10358\u001b[0m\n",
      "\u001b[34m[32]#011train-error:0.09743#011validation-error:0.10391\u001b[0m\n",
      "\u001b[34m[33]#011train-error:0.09753#011validation-error:0.10342\u001b[0m\n",
      "\u001b[34m[34]#011train-error:0.09767#011validation-error:0.10342\u001b[0m\n",
      "\u001b[34m[35]#011train-error:0.09757#011validation-error:0.10350\u001b[0m\n",
      "\u001b[34m[36]#011train-error:0.09757#011validation-error:0.10342\u001b[0m\n",
      "\u001b[34m[37]#011train-error:0.09736#011validation-error:0.10342\u001b[0m\n",
      "\u001b[34m[38]#011train-error:0.09750#011validation-error:0.10342\u001b[0m\n",
      "\u001b[34m[39]#011train-error:0.09733#011validation-error:0.10350\u001b[0m\n",
      "\u001b[34m[40]#011train-error:0.09705#011validation-error:0.10358\u001b[0m\n",
      "\u001b[34m[41]#011train-error:0.09701#011validation-error:0.10383\u001b[0m\n",
      "\u001b[34m[42]#011train-error:0.09712#011validation-error:0.10407\u001b[0m\n",
      "\u001b[34m[43]#011train-error:0.09698#011validation-error:0.10375\u001b[0m\n",
      "\u001b[34m[44]#011train-error:0.09733#011validation-error:0.10342\u001b[0m\n",
      "\u001b[34m[45]#011train-error:0.09736#011validation-error:0.10367\u001b[0m\n",
      "\u001b[34m[46]#011train-error:0.09746#011validation-error:0.10350\u001b[0m\n",
      "\u001b[34m[47]#011train-error:0.09736#011validation-error:0.10358\u001b[0m\n",
      "\u001b[34m[48]#011train-error:0.09712#011validation-error:0.10334\u001b[0m\n",
      "\u001b[34m[49]#011train-error:0.09712#011validation-error:0.10318\u001b[0m\n",
      "Training seconds: 74\n",
      "Billable seconds: 37\n",
      "Managed Spot Training savings: 50.0%\n"
     ]
    }
   ],
   "source": [
    "estimator.fit({'train':s3_input_train , 'validation':s3_input_test})"
   ]
  },
  {
   "cell_type": "markdown",
   "id": "f3c39a17",
   "metadata": {},
   "source": [
    "### Deploy the model"
   ]
  },
  {
   "cell_type": "code",
   "execution_count": 69,
   "id": "c040efdc",
   "metadata": {},
   "outputs": [
    {
     "name": "stdout",
     "output_type": "stream",
     "text": [
      "----------!"
     ]
    }
   ],
   "source": [
    "xgb_predictor = estimator.deploy(initial_instance_count=1,instance_type='ml.m4.xlarge')\n"
   ]
  },
  {
   "cell_type": "markdown",
   "id": "2f564255",
   "metadata": {},
   "source": [
    "### Predicting from test data"
   ]
  },
  {
   "cell_type": "code",
   "execution_count": 74,
   "id": "f9686727",
   "metadata": {},
   "outputs": [
    {
     "name": "stdout",
     "output_type": "stream",
     "text": [
      "(12357,)\n"
     ]
    }
   ],
   "source": [
    "from sagemaker.serializers import CSVSerializer\n",
    "test_data_array = test_data.drop(['y_no', 'y_yes'], axis=1).values #load the data into an array\n",
    "xgb_predictor.serializer = CSVSerializer(content_type='text/csv')# set the serializer type\n",
    "predictions = xgb_predictor.predict(test_data_array).decode('utf-8') # predict!\n",
    "predictions_array = np.fromstring(predictions[1:], sep=',') # and turn the prediction into an array\n",
    "print(predictions_array.shape)"
   ]
  },
  {
   "cell_type": "markdown",
   "id": "ede70a73",
   "metadata": {},
   "source": [
    "### Confution Matrix"
   ]
  },
  {
   "cell_type": "code",
   "execution_count": 75,
   "id": "b4af6cb4",
   "metadata": {},
   "outputs": [
    {
     "name": "stdout",
     "output_type": "stream",
     "text": [
      "\n",
      "Overall Classification Rate: 89.7%\n",
      "\n",
      "Predicted      No Purchase    Purchase\n",
      "Observed\n",
      "No Purchase    91% (10785)    34% (151)\n",
      "Purchase        9% (1124)     66% (297) \n",
      "\n"
     ]
    }
   ],
   "source": [
    "cm = pd.crosstab(index=test_data['y_yes'], columns=np.round(predictions_array), rownames=['Observed'], colnames=['Predicted'])\n",
    "tn = cm.iloc[0,0]; fn = cm.iloc[1,0]; tp = cm.iloc[1,1]; fp = cm.iloc[0,1]; p = (tp+tn)/(tp+tn+fp+fn)*100\n",
    "print(\"\\n{0:<20}{1:<4.1f}%\\n\".format(\"Overall Classification Rate: \", p))\n",
    "print(\"{0:<15}{1:<15}{2:>8}\".format(\"Predicted\", \"No Purchase\", \"Purchase\"))\n",
    "print(\"Observed\")\n",
    "print(\"{0:<15}{1:<2.0f}% ({2:<}){3:>6.0f}% ({4:<})\".format(\"No Purchase\", tn/(tn+fn)*100,tn, fp/(tp+fp)*100, fp))\n",
    "print(\"{0:<16}{1:<1.0f}% ({2:<}){3:>7.0f}% ({4:<}) \\n\".format(\"Purchase\", fn/(tn+fn)*100,fn, tp/(tp+fp)*100, tp))\n"
   ]
  },
  {
   "cell_type": "code",
   "execution_count": null,
   "id": "104f03e8",
   "metadata": {},
   "outputs": [],
   "source": []
  }
 ],
 "metadata": {
  "kernelspec": {
   "display_name": "conda_python3",
   "language": "python",
   "name": "conda_python3"
  },
  "language_info": {
   "codemirror_mode": {
    "name": "ipython",
    "version": 3
   },
   "file_extension": ".py",
   "mimetype": "text/x-python",
   "name": "python",
   "nbconvert_exporter": "python",
   "pygments_lexer": "ipython3",
   "version": "3.6.13"
  }
 },
 "nbformat": 4,
 "nbformat_minor": 5
}
